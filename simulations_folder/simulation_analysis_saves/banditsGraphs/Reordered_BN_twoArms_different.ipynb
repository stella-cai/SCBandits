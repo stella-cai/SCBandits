{
 "cells": [
  {
   "cell_type": "code",
   "execution_count": 1,
   "metadata": {
    "collapsed": false
   },
   "outputs": [
    {
     "data": {
      "text/plain": [
       "'0.22.0'"
      ]
     },
     "execution_count": 1,
     "metadata": {},
     "output_type": "execute_result"
    }
   ],
   "source": [
    "import pandas as pd\n",
    "pd.__version__"
   ]
  },
  {
   "cell_type": "code",
   "execution_count": 2,
   "metadata": {
    "collapsed": true
   },
   "outputs": [],
   "source": [
    "%matplotlib inline\n",
    "#%matplotlib notebook\n",
    "from sklearn import datasets, linear_model\n",
    "import numpy as np\n",
    "import matplotlib.pyplot as plt\n",
    "# Set plot font to Times New Roman\n",
    "plt.rcParams[\"font.family\"] = \"Times New Roman\"\n",
    "# plt.rcParams['font.size'] = 16"
   ]
  },
  {
   "cell_type": "markdown",
   "metadata": {},
   "source": [
    "### String Constants"
   ]
  },
  {
   "cell_type": "code",
   "execution_count": 3,
   "metadata": {
    "collapsed": true
   },
   "outputs": [],
   "source": [
    "df_suffix = 'Df.pkl'\n",
    "byTrial_suffix = 'DfByTrial.pkl'\n",
    "overall_suffix = 'OverallStatsDf.pkl'\n",
    "summary_suffix = 'SummaryText.txt'\n",
    "date_prefix = '180120'\n",
    "outdir_prefix = 'graphs/'\n",
    "outdir_prefix_std_error = 'graphsWithStandardErrorBars/'\n",
    "\n",
    "BINARY = \"B\"\n",
    "NORMAL = \"N\"\n",
    "\n",
    "BANDIT = \"Bandit Sampling\"\n",
    "PRIOR_BTW = \"Prior between\"\n",
    "UNIFORM = \"Uniform Sampling\"\n",
    "\n",
    "bb_prefix = \"bbSoftmax\"\n",
    "better_infix = \"PreferBetterActions\"\n",
    "worse_infix = \"PreferWorseActions\"\n",
    "es_infix = \"ES\"\n",
    "bb_infix = \"BB\"\n",
    "\n",
    "ng_prefix = \"ngSoftmax\"\n",
    "ng_infix = \"NG\"\n",
    "\n",
    "prefer_infix_lst = (better_infix, worse_infix)\n",
    "preference_label = (\"Higher-earlier\", \"Higher-later\")\n",
    "\n",
    "# (Optimal, softmax 0.0 - 0.5)\n",
    "colors = ('#fed976','#c7e9b4','#7fcdbb','#41b6c4','#1d91c0','#225ea8','#0c2c84')\n",
    "# (Optimal, Prior Btw, Prior Btw Regression, Uniform, Uniform Regression)\n",
    "colors_line = ('#a6cee3','#1f78b4','#fc8d62','#fb9a99','#018571')"
   ]
  },
  {
   "cell_type": "markdown",
   "metadata": {},
   "source": [
    "### Simulation Settings"
   ]
  },
  {
   "cell_type": "code",
   "execution_count": 15,
   "metadata": {
    "collapsed": true
   },
   "outputs": [],
   "source": [
    "effectSizeB = 0.3\n",
    "effectSizeN = 0.5\n",
    "softmaxRange = np.arange(0.0, 0.6, 0.1)\n",
    "mean_names_lst = []\n",
    "std_names_lst = []\n",
    "for i in range(len(softmaxRange)):\n",
    "    mean_names_lst.append(\"Softmax \"+str(round(softmaxRange[i],1)))\n",
    "    std_names_lst.append(\"softmax \"+str(round(softmaxRange[i],1))+\" std\")"
   ]
  },
  {
   "cell_type": "code",
   "execution_count": 5,
   "metadata": {
    "collapsed": true
   },
   "outputs": [],
   "source": [
    "def scale_normal_rewards(x, good_arm, bad_arm):\n",
    "    return ((x - (bad_arm)) / (good_arm - (bad_arm)))"
   ]
  },
  {
   "cell_type": "code",
   "execution_count": 6,
   "metadata": {
    "collapsed": true
   },
   "outputs": [],
   "source": [
    "import ast\n",
    "def get_arms(softmax, reward_type):\n",
    "    if reward_type == BINARY:\n",
    "        effect_size = effectSizeB\n",
    "        summary = open(bb_prefix+str(softmax)+prefer_infix_lst[0]+es_infix+str(effect_size)+bb_infix+str(effect_size)+summary_suffix)\n",
    "    elif reward_type == NORMAL:\n",
    "        effect_size = effectSizeN\n",
    "        summary = open(ng_prefix+str(softmax)+prefer_infix_lst[0]+es_infix+str(effect_size)+ng_infix+str(effect_size)+summary_suffix)\n",
    "\n",
    "    for line in summary:\n",
    "        if line.startswith(\"Arm stats:\"):\n",
    "            arms = line.split(':')[1].strip()\n",
    "            return ast.literal_eval(arms)[:2]"
   ]
  },
  {
   "cell_type": "code",
   "execution_count": 7,
   "metadata": {
    "collapsed": true
   },
   "outputs": [],
   "source": [
    "def get_avg_col_per_num_steps_dfs(preference_infix, reward_type, col, stdError=False):\n",
    "    df_lst = []\n",
    "    if reward_type == BINARY:\n",
    "        effect_size = str(effectSizeB)\n",
    "        prefix = bb_prefix\n",
    "        infix = bb_infix\n",
    "    elif reward_type == NORMAL:\n",
    "        effect_size = str(effectSizeN)\n",
    "        prefix = ng_prefix\n",
    "        infix = ng_infix\n",
    "    \n",
    "    for i in range(len(softmaxRange)):\n",
    "        softmax = softmaxRange[i]\n",
    "        df = pd.read_pickle(prefix+str(softmax)+preference_infix+es_infix+str(effect_size)+\\\n",
    "                            infix+str(effect_size)+df_suffix)\n",
    "        df_lst.append(df)\n",
    "        \n",
    "    avg_lst = []\n",
    "    std_lst = []\n",
    "    for i in range(len(df_lst)):\n",
    "        df = df_lst[i]\n",
    "        \n",
    "        gp = df[['num_steps', col]].groupby('num_steps')\n",
    "        \n",
    "        avg = gp.mean().reset_index().rename(columns={col: mean_names_lst[i]})\n",
    "        avg_lst.append(avg)\n",
    "        std = gp.std().reset_index().rename(columns={col: std_names_lst[i]})\n",
    "        if (stdError):\n",
    "            count = gp.size().reset_index(name='counts')\n",
    "            std[std_names_lst[i]] = std[std_names_lst[i]] / np.sqrt(count['counts'])\n",
    "\n",
    "        std_lst.append(std)\n",
    "\n",
    "    result = pd.merge(avg_lst[0], avg_lst[1], how='outer', on=['num_steps'])\n",
    "    for i in range(2, len(avg_lst)):\n",
    "        result = pd.merge(result, avg_lst[i], how='outer', on=['num_steps'])\n",
    "    for i in range(len(std_lst)):\n",
    "        result = pd.merge(result, std_lst[i], how='outer', on=['num_steps'])\n",
    "        \n",
    "    result = result.reset_index(drop=True).set_index('num_steps')\n",
    "\n",
    "    return result"
   ]
  },
  {
   "cell_type": "code",
   "execution_count": 8,
   "metadata": {
    "collapsed": true
   },
   "outputs": [],
   "source": [
    "def get_avg_col_per_step_dfs(preference_infix, reward_type, col, stdError=False):\n",
    "    avg_total_rewards = get_avg_col_per_num_steps_dfs(preference_infix, reward_type, col, stdError=stdError)\n",
    "    for column in avg_total_rewards.columns:\n",
    "        # Update mean and std\n",
    "        avg_total_rewards[column] = avg_total_rewards[column] / avg_total_rewards.index\n",
    "\n",
    "        # Apply scaling if normal rewards\n",
    "        if col == \"total_reward\" and reward_type == NORMAL:\n",
    "            if \"std\" not in column:\n",
    "                # scale avg\n",
    "                avg_total_rewards[column] = avg_total_rewards[column].\\\n",
    "                apply(scale_normal_rewards, args=(max(get_arms(softmaxRange[0], NORMAL)), \\\n",
    "                                                  min(get_arms(softmaxRange[0], NORMAL))))\n",
    "            else: \n",
    "                # scale std\n",
    "                avg_total_rewards[column] = avg_total_rewards[column].\\\n",
    "                apply(lambda x: \\\n",
    "                      x / (max(get_arms(softmaxRange[0], NORMAL)) - min(get_arms(softmaxRange[0], NORMAL))))\n",
    "\n",
    "    return avg_total_rewards"
   ]
  },
  {
   "cell_type": "code",
   "execution_count": 9,
   "metadata": {
    "collapsed": false,
    "scrolled": false
   },
   "outputs": [
    {
     "data": {
      "text/html": [
       "<div>\n",
       "<style>\n",
       "    .dataframe thead tr:only-child th {\n",
       "        text-align: right;\n",
       "    }\n",
       "\n",
       "    .dataframe thead th {\n",
       "        text-align: left;\n",
       "    }\n",
       "\n",
       "    .dataframe tbody tr th {\n",
       "        vertical-align: top;\n",
       "    }\n",
       "</style>\n",
       "<table border=\"1\" class=\"dataframe\">\n",
       "  <thead>\n",
       "    <tr style=\"text-align: right;\">\n",
       "      <th></th>\n",
       "      <th>Softmax 0.0</th>\n",
       "      <th>Softmax 0.1</th>\n",
       "      <th>Softmax 0.2</th>\n",
       "      <th>Softmax 0.3</th>\n",
       "      <th>Softmax 0.4</th>\n",
       "      <th>Softmax 0.5</th>\n",
       "      <th>softmax 0.0 std</th>\n",
       "      <th>softmax 0.1 std</th>\n",
       "      <th>softmax 0.2 std</th>\n",
       "      <th>softmax 0.3 std</th>\n",
       "      <th>softmax 0.4 std</th>\n",
       "      <th>softmax 0.5 std</th>\n",
       "    </tr>\n",
       "    <tr>\n",
       "      <th>num_steps</th>\n",
       "      <th></th>\n",
       "      <th></th>\n",
       "      <th></th>\n",
       "      <th></th>\n",
       "      <th></th>\n",
       "      <th></th>\n",
       "      <th></th>\n",
       "      <th></th>\n",
       "      <th></th>\n",
       "      <th></th>\n",
       "      <th></th>\n",
       "      <th></th>\n",
       "    </tr>\n",
       "  </thead>\n",
       "  <tbody>\n",
       "    <tr>\n",
       "      <th>44</th>\n",
       "      <td>0.588636</td>\n",
       "      <td>0.588955</td>\n",
       "      <td>0.596000</td>\n",
       "      <td>0.592318</td>\n",
       "      <td>0.587091</td>\n",
       "      <td>0.588364</td>\n",
       "      <td>0.003776</td>\n",
       "      <td>0.003947</td>\n",
       "      <td>0.003899</td>\n",
       "      <td>0.003933</td>\n",
       "      <td>0.003750</td>\n",
       "      <td>0.003812</td>\n",
       "    </tr>\n",
       "    <tr>\n",
       "      <th>88</th>\n",
       "      <td>0.608523</td>\n",
       "      <td>0.607886</td>\n",
       "      <td>0.609477</td>\n",
       "      <td>0.604318</td>\n",
       "      <td>0.613886</td>\n",
       "      <td>0.610705</td>\n",
       "      <td>0.002679</td>\n",
       "      <td>0.002785</td>\n",
       "      <td>0.002765</td>\n",
       "      <td>0.002773</td>\n",
       "      <td>0.002625</td>\n",
       "      <td>0.002657</td>\n",
       "    </tr>\n",
       "    <tr>\n",
       "      <th>176</th>\n",
       "      <td>0.623148</td>\n",
       "      <td>0.625386</td>\n",
       "      <td>0.625023</td>\n",
       "      <td>0.622909</td>\n",
       "      <td>0.627557</td>\n",
       "      <td>0.630727</td>\n",
       "      <td>0.001937</td>\n",
       "      <td>0.001846</td>\n",
       "      <td>0.001928</td>\n",
       "      <td>0.001904</td>\n",
       "      <td>0.001768</td>\n",
       "      <td>0.001766</td>\n",
       "    </tr>\n",
       "    <tr>\n",
       "      <th>352</th>\n",
       "      <td>0.632653</td>\n",
       "      <td>0.636710</td>\n",
       "      <td>0.635250</td>\n",
       "      <td>0.636807</td>\n",
       "      <td>0.635182</td>\n",
       "      <td>0.636727</td>\n",
       "      <td>0.001350</td>\n",
       "      <td>0.001243</td>\n",
       "      <td>0.001279</td>\n",
       "      <td>0.001243</td>\n",
       "      <td>0.001279</td>\n",
       "      <td>0.001231</td>\n",
       "    </tr>\n",
       "  </tbody>\n",
       "</table>\n",
       "</div>"
      ],
      "text/plain": [
       "           Softmax 0.0  Softmax 0.1  Softmax 0.2  Softmax 0.3  Softmax 0.4  \\\n",
       "num_steps                                                                    \n",
       "44            0.588636     0.588955     0.596000     0.592318     0.587091   \n",
       "88            0.608523     0.607886     0.609477     0.604318     0.613886   \n",
       "176           0.623148     0.625386     0.625023     0.622909     0.627557   \n",
       "352           0.632653     0.636710     0.635250     0.636807     0.635182   \n",
       "\n",
       "           Softmax 0.5  softmax 0.0 std  softmax 0.1 std  softmax 0.2 std  \\\n",
       "num_steps                                                                   \n",
       "44            0.588364         0.003776         0.003947         0.003899   \n",
       "88            0.610705         0.002679         0.002785         0.002765   \n",
       "176           0.630727         0.001937         0.001846         0.001928   \n",
       "352           0.636727         0.001350         0.001243         0.001279   \n",
       "\n",
       "           softmax 0.3 std  softmax 0.4 std  softmax 0.5 std  \n",
       "num_steps                                                     \n",
       "44                0.003933         0.003750         0.003812  \n",
       "88                0.002773         0.002625         0.002657  \n",
       "176               0.001904         0.001768         0.001766  \n",
       "352               0.001243         0.001279         0.001231  "
      ]
     },
     "execution_count": 9,
     "metadata": {},
     "output_type": "execute_result"
    }
   ],
   "source": [
    "get_avg_col_per_step_dfs(worse_infix, BINARY, 'total_reward', stdError=True)"
   ]
  },
  {
   "cell_type": "markdown",
   "metadata": {},
   "source": [
    "# Average Reward Gain at Step"
   ]
  },
  {
   "cell_type": "code",
   "execution_count": 10,
   "metadata": {
    "collapsed": true
   },
   "outputs": [],
   "source": [
    "def plot_avg_reward_gain_at_m_single(reward_type, legend_anchor=(1.4, 0.8), stdError=False):\n",
    "    df = pd.DataFrame(dtype=float)\n",
    "    if reward_type == BINARY:\n",
    "        effectSize = effectSizeB\n",
    "    elif reward_type == NORMAL:\n",
    "        effectSize = effectSizeN\n",
    "    for i in range(len(prefer_infix_lst)):\n",
    "        df_m = get_avg_col_per_step_dfs(prefer_infix_lst[i], reward_type, \"total_reward\", stdError=stdError).iloc[1:2]\n",
    "        if reward_type == BINARY:\n",
    "            df_m[\"Optimal Reward\"] = max(get_arms(softmaxRange[0], reward_type))\n",
    "        else:\n",
    "            good_arm = max(get_arms(softmaxRange[0], reward_type))\n",
    "            bad_arm = min(get_arms(softmaxRange[0], reward_type))\n",
    "            df_m[\"Optimal Reward\"] = scale_normal_rewards(good_arm, good_arm, bad_arm)\n",
    "\n",
    "        df_m[\"or_std\"] = pd.Series()\n",
    "\n",
    "        df = pd.concat([df, df_m])\n",
    "\n",
    "    m = df[[\"Optimal Reward\"]+list(mean_names_lst)]\n",
    "    std = df[list(std_names_lst)+['or_std']]\n",
    "    std.columns = list(mean_names_lst)+['Optimal Reward']\n",
    "    ax = m.plot.bar(yerr=std, rot=0, color=colors)\n",
    "\n",
    "    ax.set_xlabel(\"\")\n",
    "    xticks = []\n",
    "\n",
    "    ax.set_xticklabels(preference_label)\n",
    "    ax.set_ylabel(\"Rewards\")\n",
    "    \n",
    "    ax.legend(bbox_to_anchor=legend_anchor)\n",
    "\n",
    "    if reward_type == BINARY:\n",
    "        ax.set_title(\"Average Reward Gain per Step in m Steps (Binary Reward)\")\n",
    "    elif reward_type == NORMAL:\n",
    "        ax.set_title(\"Average Reward Gain per Step in m Steps (Scaled, Normal Reward)\")\n",
    "    return ax"
   ]
  },
  {
   "cell_type": "markdown",
   "metadata": {},
   "source": [
    "### Binary Rewards"
   ]
  },
  {
   "cell_type": "code",
   "execution_count": 11,
   "metadata": {
    "collapsed": false
   },
   "outputs": [
    {
     "data": {
      "image/png": "[encoded data removed]",
      "text/plain": [
       "<matplotlib.figure.Figure at 0x113abcc18>"
      ]
     },
     "metadata": {},
     "output_type": "display_data"
    }
   ],
   "source": [
    "ax = plot_avg_reward_gain_at_m_single(BINARY, stdError=True)"
   ]
  },
  {
   "cell_type": "markdown",
   "metadata": {},
   "source": [
    "### Normal Rewards"
   ]
  },
  {
   "cell_type": "code",
   "execution_count": 12,
   "metadata": {
    "collapsed": false
   },
   "outputs": [
    {
     "data": {
      "image/png": "[encoded data removed]",
      "text/plain": [
       "<matplotlib.figure.Figure at 0x116ff05f8>"
      ]
     },
     "metadata": {},
     "output_type": "display_data"
    }
   ],
   "source": [
    "ax = plot_avg_reward_gain_at_m_single(NORMAL, stdError=True)"
   ]
  },
  {
   "cell_type": "markdown",
   "metadata": {},
   "source": [
    "### Combine Plots"
   ]
  },
  {
   "cell_type": "code",
   "execution_count": 30,
   "metadata": {
    "collapsed": true
   },
   "outputs": [],
   "source": [
    "def plot_avg_reward_gain_at_m(reward_type, ax, ylabel=\"\", hasLegend=True, legend_anchor=(0.55, 1.55), stdError=False):\n",
    "    df = pd.DataFrame(dtype=float)\n",
    "    import pickle\n",
    "    if reward_type == BINARY:\n",
    "        effectSize = effectSizeB\n",
    "        df = pd.read_pickle('180120ReorderedBinaryRewardTwoArmsDiffer.pkl')\n",
    "    elif reward_type == NORMAL:\n",
    "        effectSize = effectSizeN\n",
    "        df = pd.read_pickle('180120ReorderedNormalRewardTwoArmsDiffer.pkl')\n",
    "\n",
    "#     for i in range(len(prefer_infix_lst)):\n",
    "#         df_m = get_avg_col_per_step_dfs(prefer_infix_lst[i], reward_type, \"total_reward\", stdError=stdError).iloc[1:2]\n",
    "#         if reward_type == BINARY:\n",
    "#             df_m[\"Optimal Reward\"] = max(get_arms(softmaxRange[0], reward_type))\n",
    "#         else:\n",
    "#             good_arm = max(get_arms(softmaxRange[0], reward_type))\n",
    "#             bad_arm = min(get_arms(softmaxRange[0], reward_type))\n",
    "#             df_m[\"Optimal Reward\"] = scale_normal_rewards(good_arm, good_arm, bad_arm)\n",
    "\n",
    "#         df_m[\"or_std\"] = pd.Series()\n",
    "\n",
    "#         df = pd.concat([df, df_m])\n",
    "\n",
    "    m = df[[\"Optimal Reward\"]+list(mean_names_lst)]\n",
    "    std = df[list(std_names_lst)+['or_std']]\n",
    "    std.columns = list(mean_names_lst)+['Optimal Reward']\n",
    "    m.plot.bar(ax=ax, yerr=std, rot=0, color=colors)\n",
    "\n",
    "    ax.set_xlabel(\"\")\n",
    "    ax.set_xticklabels(preference_label)\n",
    "    ax.set_ylabel(ylabel)\n",
    "    \n",
    "    if hasLegend:\n",
    "        ax.legend(bbox_to_anchor=legend_anchor)\n",
    "    else:\n",
    "        ax.legend_.remove()\n",
    "\n",
    "    if reward_type == BINARY:\n",
    "        ax.set_title(\"Binary Reward\")\n",
    "    elif reward_type == NORMAL:\n",
    "        ax.set_title(\"Scaled, Normal Reward\")\n",
    "    return ax"
   ]
  },
  {
   "cell_type": "code",
   "execution_count": 31,
   "metadata": {
    "collapsed": false
   },
   "outputs": [
    {
     "data": {
      "image/png": "[encoded data removed]",
      "text/plain": [
       "<matplotlib.figure.Figure at 0x10d4e1748>"
      ]
     },
     "metadata": {},
     "output_type": "display_data"
    }
   ],
   "source": [
    "figure = plt.figure(figsize = (8, 4))\n",
    "stdError = True\n",
    "\n",
    "# Bar for Binary Reward \n",
    "ax = figure.add_subplot(1, 2, 1)\n",
    "plot_avg_reward_gain_at_m(BINARY, ax, ylabel=\"Reward\", legend_anchor=(-0.2, 0.8), stdError=stdError)\n",
    "\n",
    "# Bar for Normal Reward \n",
    "ax = figure.add_subplot(1, 2, 2)\n",
    "plot_avg_reward_gain_at_m(NORMAL, ax, hasLegend=False, stdError=stdError)\n",
    "\n",
    "# Set super title for all subgraphs\n",
    "plt.subplots_adjust(top=0.85)\n",
    "if (stdError):\n",
    "    outdir = outdir_prefix_std_error\n",
    "else:\n",
    "    outdir = outdir_prefix\n",
    "figure.savefig(outdir+date_prefix+'AvgRewardGainAtStepM.pdf', bbox_inches='tight')"
   ]
  },
  {
   "cell_type": "markdown",
   "metadata": {},
   "source": [
    "# Power"
   ]
  },
  {
   "cell_type": "code",
   "execution_count": 9,
   "metadata": {
    "collapsed": true
   },
   "outputs": [],
   "source": [
    "def get_power_by_steps(dfs_by_trial, columns, alpha = 0.05):\n",
    "    '''\n",
    "    df_by_trial is a data frame with information about each run,\n",
    "    as calculated by calculate_by_trial_statistics_from_sims.\n",
    "    This function returns the continuous evaluation of power at every step until 4m steps,\n",
    "    and the power snapshot at step 0.5m, m, 2m and 4m for all effect sizes.\n",
    "    Power is calculated as what proportion of the p-values were below alpha at that point.\n",
    "    '''\n",
    "    unique_sample_sizes = dfs_by_trial[0].num_steps.unique()\n",
    "\n",
    "    power_df = pd.DataFrame(columns=columns)\n",
    "    power_all_steps = []\n",
    "    for i in range(len(unique_sample_sizes)):\n",
    "        cur_n = unique_sample_sizes[i]\n",
    "        power_df.loc[i,columns[0]] = cur_n\n",
    "        # Add bandit and uniform sampling lines \n",
    "        j = 1\n",
    "        for df in dfs_by_trial:\n",
    "            cur_df = df[df['num_steps'] == cur_n]\n",
    "            statistic_list = []\n",
    "            for trial in range(10, cur_n):\n",
    "                avg_stat = np.sum(cur_df[cur_df['trial'] == trial]['pvalue'] < alpha) \\\n",
    "                            / len(cur_df[cur_df['trial'] == trial])\n",
    "                statistic_list.append(avg_stat)\n",
    "            \n",
    "            if cur_n == unique_sample_sizes[-1]:\n",
    "                power_all_steps.append(statistic_list[:])\n",
    "            \n",
    "            power_df.iloc[i, j] = statistic_list[-1]\n",
    "            j+=1\n",
    "    return power_all_steps, power_df"
   ]
  },
  {
   "cell_type": "code",
   "execution_count": 10,
   "metadata": {
    "collapsed": true
   },
   "outputs": [],
   "source": [
    "def plot_power_bar(df, x_col, y_col, ax, setLegend, title, legend_anchor=(0.5, 1.7), ylabel=\"\", \\\n",
    "                   hline_value=None, hline_label=None, color=colors):\n",
    "    x = df[x_col]\n",
    "    y = df[y_col]\n",
    "\n",
    "    y.plot.bar(ax=ax, rot=0, color=color[1:])\n",
    "    plt.xlabel(\"Step, m=\"+str(x.iloc[1, 0]))\n",
    "    ax.set_xticklabels(['0.5m', 'm', '2m', '4m'])\n",
    "    # set visualization range to 0-1\n",
    "    ax.set_ylim(0.0, 1.0)\n",
    "    \n",
    "    legend = y_col\n",
    "    \n",
    "    if hline_value!=None:\n",
    "        ax.axhline(hline_value, color=color[0], linestyle='dashed', linewidth=2)\n",
    "        legend.insert(0, hline_label)\n",
    "\n",
    "    plt.title(title)\n",
    "    \n",
    "    if setLegend:\n",
    "        ax.legend(legend, ncol=3, bbox_to_anchor=legend_anchor)\n",
    "        ax.set_ylabel(ylabel)\n",
    "    else:\n",
    "        ax.legend_.remove()"
   ]
  },
  {
   "cell_type": "markdown",
   "metadata": {},
   "source": [
    "### Binary Reward"
   ]
  },
  {
   "cell_type": "code",
   "execution_count": 17,
   "metadata": {
    "collapsed": true,
    "scrolled": true
   },
   "outputs": [],
   "source": [
    "binary_power = []\n",
    "binary_power_all_steps = []\n",
    "effect_size = str(effectSizeB)\n",
    "prefix = bb_prefix\n",
    "infix = bb_infix\n",
    "for i in range(len(prefer_infix_lst)):\n",
    "    df_lst = []\n",
    "    columns = list(mean_names_lst)\n",
    "    preference_infix = prefer_infix_lst[i]\n",
    "    \n",
    "    for i in range(len(softmaxRange)):\n",
    "        softmax = softmaxRange[i]\n",
    "        df = pd.read_pickle(prefix+str(softmax)+preference_infix+es_infix+str(effect_size)+\\\n",
    "                            infix+str(effect_size)+byTrial_suffix)\n",
    "        df_lst.append(df)\n",
    "        \n",
    "    power_all_steps, power_df = get_power_by_steps(df_lst, [\"num_steps\"] + list(mean_names_lst))\n",
    "    binary_power.append(power_df)\n",
    "    binary_power_all_steps.append(power_all_steps)\n",
    "    \n",
    "import pickle\n",
    "with open(date_prefix+'ReorderedBinaryPowerTwoArmsDiffer.pkl', 'wb') as f:\n",
    "    pickle.dump(binary_power, f)\n",
    "    \n",
    "with open(date_prefix+'ReorderedBinaryPowerAllStepsTwoArmsDiffer.pkl', 'wb') as f:\n",
    "    pickle.dump(binary_power_all_steps, f)"
   ]
  },
  {
   "cell_type": "code",
   "execution_count": 11,
   "metadata": {
    "collapsed": true
   },
   "outputs": [],
   "source": [
    "# Load from pickle\n",
    "import pickle\n",
    "binary_power = pd.read_pickle(date_prefix+'ReorderedBinaryPowerTwoArmsDiffer.pkl')\n",
    "binary_power_all_steps = pd.read_pickle(date_prefix+'ReorderedBinaryPowerAllStepsTwoArmsDiffer.pkl')\n",
    "mean_names_lst"
   ]
  },
  {
   "cell_type": "code",
   "execution_count": 16,
   "metadata": {
    "collapsed": false
   },
   "outputs": [
    {
     "name": "stdout",
     "output_type": "stream",
     "text": [
      "['Softmax 0.0', 'Softmax 0.1', 'Softmax 0.2', 'Softmax 0.3', 'Softmax 0.4', 'Softmax 0.5']\n",
      "[  num_steps Softmax 0.0 Softmax 0.1 Softmax 0.2 Softmax 0.3 Softmax 0.4  \\\n",
      "0        44       0.338       0.294        0.23       0.222       0.166   \n",
      "1        88       0.606       0.496       0.468       0.338       0.282   \n",
      "2       176       0.798       0.698       0.596        0.48       0.416   \n",
      "3       352       0.936       0.882       0.802       0.706       0.624   \n",
      "\n",
      "  Softmax 0.5  \n",
      "0       0.166  \n",
      "1       0.314  \n",
      "2        0.38  \n",
      "3       0.556  ,   num_steps Softmax 0.0 Softmax 0.1 Softmax 0.2 Softmax 0.3 Softmax 0.4  \\\n",
      "0        44        0.35        0.36       0.434       0.502       0.556   \n",
      "1        88        0.53       0.636       0.708         0.8       0.822   \n",
      "2       176        0.78       0.852       0.898        0.92       0.958   \n",
      "3       352       0.928        0.95       0.968       0.978       0.988   \n",
      "\n",
      "  Softmax 0.5  \n",
      "0       0.612  \n",
      "1       0.866  \n",
      "2       0.958  \n",
      "3       0.992  ]\n"
     ]
    }
   ],
   "source": [
    "print(mean_names_lst)\n",
    "print(binary_power)"
   ]
  },
  {
   "cell_type": "code",
   "execution_count": 17,
   "metadata": {
    "collapsed": false
   },
   "outputs": [
    {
     "data": {
      "image/png": "[encoded data removed]",
      "text/plain": [
       "<matplotlib.figure.Figure at 0x10c87efd0>"
      ]
     },
     "metadata": {},
     "output_type": "display_data"
    }
   ],
   "source": [
    "figure = plt.figure(figsize = (16, 4))\n",
    "setLegend = True\n",
    "# Bar graph for power at step m\n",
    "for i in range(len(prefer_infix_lst)):\n",
    "    ax = figure.add_subplot(1, len(prefer_infix_lst) + 2, i + 1)\n",
    "\n",
    "    avg_power_binary = binary_power[i]\n",
    "    plot_power_bar(avg_power_binary, [\"num_steps\"], list(mean_names_lst), ax, setLegend, \\\n",
    "                   \"Power At Step\\n(\"+preference_label[i]+\")\",\\\n",
    "                   legend_anchor=(1.6, 1.5), ylabel=\"Power\", hline_value=0.8, hline_label=\"Expected Power\")\n",
    "    setLegend = False\n",
    "    \n",
    "# Line graph for power per step\n",
    "for i in range(len(prefer_infix_lst)):\n",
    "    ax = figure.add_subplot(1, len(prefer_infix_lst) + 2, i + 3)\n",
    "    ax.axhline(0.8, color=colors[0], linestyle='dashed', linewidth=2)\n",
    "    j = 1\n",
    "    all_steps = binary_power_all_steps[i]\n",
    "    for p in all_steps:\n",
    "        x = range(10, len(p)+10)\n",
    "        ax.plot(x, p, lw=2, color=colors[j])\n",
    "        j+=1\n",
    "    ax.set_xlabel('Step')\n",
    "    # set visualization range to 0-1\n",
    "    ax.set_ylim(0.0, 1.0)\n",
    "    \n",
    "    plt.title(\"Changing Power Over Time \\n (\"+preference_label[i]+\")\")\n",
    "\n",
    "figure.suptitle(\"Binary Reward\",  fontsize=14)\n",
    "plt.subplots_adjust(top=0.75)\n",
    "figure.savefig(outdir_prefix+date_prefix+'MeasuredPowerPerStepBinary.pdf', bbox_inches='tight')"
   ]
  },
  {
   "cell_type": "code",
   "execution_count": null,
   "metadata": {
    "collapsed": true
   },
   "outputs": [],
   "source": []
  },
  {
   "cell_type": "markdown",
   "metadata": {},
   "source": [
    "### Normal Reward"
   ]
  },
  {
   "cell_type": "code",
   "execution_count": 19,
   "metadata": {
    "collapsed": true
   },
   "outputs": [],
   "source": [
    "normal_power = []\n",
    "normal_power_all_steps = []\n",
    "effect_size = str(effectSizeN)\n",
    "prefix = ng_prefix\n",
    "infix = ng_infix\n",
    "\n",
    "for i in range(len(prefer_infix_lst)):\n",
    "    df_lst = []\n",
    "    columns = list(mean_names_lst)\n",
    "    preference_infix = prefer_infix_lst[i]\n",
    "    \n",
    "    for i in range(len(softmaxRange)):\n",
    "        softmax = softmaxRange[i]\n",
    "        df = pd.read_pickle(prefix+str(softmax)+preference_infix+es_infix+str(effect_size)+\\\n",
    "                            infix+str(effect_size)+byTrial_suffix)\n",
    "        df_lst.append(df)\n",
    "        \n",
    "    power_all_steps, power_df = get_power_by_steps(df_lst, [\"num_steps\"]+list(mean_names_lst))\n",
    "    normal_power.append(power_df)\n",
    "    normal_power_all_steps.append(power_all_steps)\n",
    "\n",
    "import pickle\n",
    "with open(date_prefix+'ReorderedNormalPowerTwoArmsDiffer.pkl', 'wb') as f:\n",
    "    pickle.dump(normal_power, f)\n",
    "    \n",
    "with open(date_prefix+'ReorderedNormalPowerAllStepsTwoArmsDiffer.pkl', 'wb') as f:\n",
    "    pickle.dump(normal_power_all_steps, f)"
   ]
  },
  {
   "cell_type": "code",
   "execution_count": 18,
   "metadata": {
    "collapsed": true
   },
   "outputs": [],
   "source": [
    "# Load from pickle\n",
    "import pickle\n",
    "normal_power = pd.read_pickle(date_prefix+'ReorderedNormalPowerTwoArmsDiffer.pkl')\n",
    "normal_power_all_steps = pd.read_pickle(date_prefix+'ReorderedNormalPowerAllStepsTwoArmsDiffer.pkl')"
   ]
  },
  {
   "cell_type": "code",
   "execution_count": 19,
   "metadata": {
    "collapsed": false
   },
   "outputs": [
    {
     "data": {
      "image/png": "[encoded data removed]",
      "text/plain": [
       "<matplotlib.figure.Figure at 0x10c5b9908>"
      ]
     },
     "metadata": {},
     "output_type": "display_data"
    }
   ],
   "source": [
    "figure = plt.figure(figsize = (16, 4))\n",
    "setLegend = False\n",
    "# Bar graph for power at step m\n",
    "for i in range(len(prefer_infix_lst)):\n",
    "    ax = figure.add_subplot(1, len(prefer_infix_lst) + 2, i + 1)\n",
    "    if (i == 0):\n",
    "        ax.set_ylabel(\"Power\")\n",
    "    avg_power_normal = normal_power[i]\n",
    "    plot_power_bar(avg_power_normal, [\"num_steps\"], list(mean_names_lst), ax, setLegend, \\\n",
    "                   \"Power At Step\\n(\"+preference_label[i]+\")\", \\\n",
    "                   ylabel=\"Power\", hline_value=0.8, hline_label=\"Expected Power\")\n",
    "    \n",
    "# Line graph for power per step\n",
    "for i in range(len(prefer_infix_lst)):\n",
    "    ax = figure.add_subplot(1, len(prefer_infix_lst) + 2, i + 3)\n",
    "    ax.axhline(0.8, color=colors[0], linestyle='dashed', linewidth=2)\n",
    "    j = 1\n",
    "    all_steps = normal_power_all_steps[i]\n",
    "    for p in all_steps:\n",
    "        x = range(10, len(p)+10)\n",
    "        ax.plot(x, p, lw=2, color=colors[j])\n",
    "        j+=1\n",
    "    ax.set_xlabel('Step')\n",
    "    # set visualization range to 0-1\n",
    "    ax.set_ylim(0.0, 1.0)\n",
    "    \n",
    "    plt.title(\"Changing Power Over Time \\n (\"+preference_label[i]+\")\")\n",
    "\n",
    "figure.suptitle(\"Normal Reward\",  fontsize=14)\n",
    "plt.subplots_adjust(top=0.8)\n",
    "figure.savefig(outdir_prefix+date_prefix+'MeasuredPowerPerStepNormal.pdf', bbox_inches='tight')"
   ]
  },
  {
   "cell_type": "markdown",
   "metadata": {},
   "source": [
    "# Estimate of the worse condition"
   ]
  },
  {
   "cell_type": "code",
   "execution_count": 21,
   "metadata": {
    "collapsed": false,
    "scrolled": true
   },
   "outputs": [
    {
     "data": {
      "text/html": [
       "<div>\n",
       "<style>\n",
       "    .dataframe thead tr:only-child th {\n",
       "        text-align: right;\n",
       "    }\n",
       "\n",
       "    .dataframe thead th {\n",
       "        text-align: left;\n",
       "    }\n",
       "\n",
       "    .dataframe tbody tr th {\n",
       "        vertical-align: top;\n",
       "    }\n",
       "</style>\n",
       "<table border=\"1\" class=\"dataframe\">\n",
       "  <thead>\n",
       "    <tr style=\"text-align: right;\">\n",
       "      <th></th>\n",
       "      <th>Softmax 0.0</th>\n",
       "      <th>Softmax 0.1</th>\n",
       "      <th>Softmax 0.2</th>\n",
       "      <th>Softmax 0.3</th>\n",
       "      <th>Softmax 0.4</th>\n",
       "      <th>Softmax 0.5</th>\n",
       "      <th>softmax 0.0 std</th>\n",
       "      <th>softmax 0.1 std</th>\n",
       "      <th>softmax 0.2 std</th>\n",
       "      <th>softmax 0.3 std</th>\n",
       "      <th>softmax 0.4 std</th>\n",
       "      <th>softmax 0.5 std</th>\n",
       "    </tr>\n",
       "    <tr>\n",
       "      <th>num_steps</th>\n",
       "      <th></th>\n",
       "      <th></th>\n",
       "      <th></th>\n",
       "      <th></th>\n",
       "      <th></th>\n",
       "      <th></th>\n",
       "      <th></th>\n",
       "      <th></th>\n",
       "      <th></th>\n",
       "      <th></th>\n",
       "      <th></th>\n",
       "      <th></th>\n",
       "    </tr>\n",
       "  </thead>\n",
       "  <tbody>\n",
       "    <tr>\n",
       "      <th>44</th>\n",
       "      <td>0.255321</td>\n",
       "      <td>0.269742</td>\n",
       "      <td>0.254014</td>\n",
       "      <td>0.240813</td>\n",
       "      <td>0.226673</td>\n",
       "      <td>0.203604</td>\n",
       "      <td>0.177324</td>\n",
       "      <td>0.183579</td>\n",
       "      <td>0.182590</td>\n",
       "      <td>0.178909</td>\n",
       "      <td>0.172298</td>\n",
       "      <td>0.173105</td>\n",
       "    </tr>\n",
       "    <tr>\n",
       "      <th>88</th>\n",
       "      <td>0.277031</td>\n",
       "      <td>0.266261</td>\n",
       "      <td>0.244947</td>\n",
       "      <td>0.221829</td>\n",
       "      <td>0.222236</td>\n",
       "      <td>0.191970</td>\n",
       "      <td>0.165597</td>\n",
       "      <td>0.158887</td>\n",
       "      <td>0.165988</td>\n",
       "      <td>0.148216</td>\n",
       "      <td>0.150555</td>\n",
       "      <td>0.146149</td>\n",
       "    </tr>\n",
       "    <tr>\n",
       "      <th>176</th>\n",
       "      <td>0.285856</td>\n",
       "      <td>0.254315</td>\n",
       "      <td>0.238870</td>\n",
       "      <td>0.223112</td>\n",
       "      <td>0.200881</td>\n",
       "      <td>0.184048</td>\n",
       "      <td>0.146760</td>\n",
       "      <td>0.150154</td>\n",
       "      <td>0.142556</td>\n",
       "      <td>0.146430</td>\n",
       "      <td>0.139457</td>\n",
       "      <td>0.130451</td>\n",
       "    </tr>\n",
       "    <tr>\n",
       "      <th>352</th>\n",
       "      <td>0.287067</td>\n",
       "      <td>0.254094</td>\n",
       "      <td>0.250355</td>\n",
       "      <td>0.220141</td>\n",
       "      <td>0.206292</td>\n",
       "      <td>0.185971</td>\n",
       "      <td>0.135229</td>\n",
       "      <td>0.145097</td>\n",
       "      <td>0.131676</td>\n",
       "      <td>0.124359</td>\n",
       "      <td>0.122341</td>\n",
       "      <td>0.116574</td>\n",
       "    </tr>\n",
       "  </tbody>\n",
       "</table>\n",
       "</div>"
      ],
      "text/plain": [
       "           Softmax 0.0  Softmax 0.1  Softmax 0.2  Softmax 0.3  Softmax 0.4  \\\n",
       "num_steps                                                                    \n",
       "44            0.255321     0.269742     0.254014     0.240813     0.226673   \n",
       "88            0.277031     0.266261     0.244947     0.221829     0.222236   \n",
       "176           0.285856     0.254315     0.238870     0.223112     0.200881   \n",
       "352           0.287067     0.254094     0.250355     0.220141     0.206292   \n",
       "\n",
       "           Softmax 0.5  softmax 0.0 std  softmax 0.1 std  softmax 0.2 std  \\\n",
       "num_steps                                                                   \n",
       "44            0.203604         0.177324         0.183579         0.182590   \n",
       "88            0.191970         0.165597         0.158887         0.165988   \n",
       "176           0.184048         0.146760         0.150154         0.142556   \n",
       "352           0.185971         0.135229         0.145097         0.131676   \n",
       "\n",
       "           softmax 0.3 std  softmax 0.4 std  softmax 0.5 std  \n",
       "num_steps                                                     \n",
       "44                0.178909         0.172298         0.173105  \n",
       "88                0.148216         0.150555         0.146149  \n",
       "176               0.146430         0.139457         0.130451  \n",
       "352               0.124359         0.122341         0.116574  "
      ]
     },
     "execution_count": 21,
     "metadata": {},
     "output_type": "execute_result"
    }
   ],
   "source": [
    "get_avg_col_per_num_steps_dfs(worse_infix, BINARY, 'mean_2')"
   ]
  },
  {
   "cell_type": "code",
   "execution_count": null,
   "metadata": {
    "collapsed": true
   },
   "outputs": [],
   "source": []
  },
  {
   "cell_type": "code",
   "execution_count": 22,
   "metadata": {
    "collapsed": true
   },
   "outputs": [],
   "source": [
    "def plot_worse_arm_estimate_at_m(reward_type, ax, ylabel=\"\", hasLegend=True, legend_anchor=(0.55, 1.55), color=colors, stdError=False):\n",
    "    df = pd.DataFrame(dtype=float)\n",
    "    if reward_type == BINARY:\n",
    "        effectSize = effectSizeB\n",
    "    elif reward_type == NORMAL:\n",
    "        effectSize = effectSizeN\n",
    "#     for i in range(len(prefer_infix_lst)):\n",
    "#         df_m = get_avg_col_per_num_steps_dfs(prefer_infix_lst[i], reward_type, 'mean_2', stdError).iloc[1:2]\n",
    "#         if reward_type == BINARY:\n",
    "#             actual_reward = min(get_arms(softmaxRange[0], reward_type))\n",
    "#         else:\n",
    "#             good_arm = max(get_arms(softmaxRange[0], reward_type))\n",
    "#             bad_arm = min(get_arms(softmaxRange[0], reward_type))\n",
    "#             actual_reward = scale_normal_rewards(bad_arm, good_arm, bad_arm)\n",
    "\n",
    "#         df_m[\"or_std\"] = pd.Series()\n",
    "\n",
    "#         df = pd.concat([df, df_m])\n",
    "#     import pickle\n",
    "#     if reward_type == BINARY:\n",
    "#         with open(date_prefix+'BinaryWorseArmEstimate.pkl', 'wb') as f:\n",
    "#             pickle.dump(df, f)\n",
    "#     elif reward_type == NORMAL:\n",
    "#         with open(date_prefix+'NormalWorseArmEstimate.pkl', 'wb') as f:\n",
    "#             pickle.dump(df, f)\n",
    "    import pickle\n",
    "    if reward_type == BINARY:\n",
    "        actual_reward = 0.35\n",
    "        df = pd.read_pickle(date_prefix+'BinaryWorseArmEstimate.pkl')\n",
    "    elif reward_type == NORMAL:\n",
    "        actual_reward = -0.5\n",
    "        df = pd.read_pickle(date_prefix+'NormalWorseArmEstimate.pkl')\n",
    "    m = df[list(mean_names_lst)]\n",
    "    std = df[list(std_names_lst)]\n",
    "    std.columns = list(mean_names_lst)\n",
    "    m.plot.bar(ax=ax, yerr=std, rot=0, color=colors[1:])\n",
    "    ax.axhline(actual_reward, color=color[0], linestyle='dashed', linewidth=2)\n",
    "    \n",
    "    legend = list(mean_names_lst)\n",
    "    legend.insert(0, \"Actual Reward\")\n",
    "\n",
    "    \n",
    "    ax.set_xlabel(\"\")\n",
    "    ax.set_xticklabels(preference_label)\n",
    "    ax.set_ylabel(ylabel)\n",
    "    \n",
    "    if hasLegend:\n",
    "        ax.legend(legend, bbox_to_anchor=legend_anchor)\n",
    "    else:\n",
    "        ax.legend_.remove()\n",
    "\n",
    "    if reward_type == BINARY:\n",
    "        ax.set_title(\"Binary Reward\")\n",
    "    elif reward_type == NORMAL:\n",
    "        ax.set_title(\"Scaled, Normal Reward\")\n",
    "    return ax"
   ]
  },
  {
   "cell_type": "code",
   "execution_count": 25,
   "metadata": {
    "collapsed": false
   },
   "outputs": [
    {
     "data": {
      "image/png": "[encoded data removed]",
      "text/plain": [
       "<matplotlib.figure.Figure at 0x10ceafa90>"
      ]
     },
     "metadata": {},
     "output_type": "display_data"
    }
   ],
   "source": [
    "figure = plt.figure(figsize = (8, 4))\n",
    "stdError = True\n",
    "\n",
    "# Bar for Binary Reward \n",
    "ax = figure.add_subplot(1, 2, 1)\n",
    "plot_worse_arm_estimate_at_m(BINARY, ax, hasLegend=False, ylabel=\"Estimated Reward\", legend_anchor=(-0.1, 0.8), stdError=stdError)\n",
    "\n",
    "# Bar for Normal Reward \n",
    "ax = figure.add_subplot(1, 2, 2)\n",
    "plot_worse_arm_estimate_at_m(NORMAL, ax, hasLegend=False, stdError=stdError)\n",
    "\n",
    "# Set super title for all subgraphs\n",
    "plt.subplots_adjust(top=0.85)\n",
    "if (stdError):\n",
    "    outdir = outdir_prefix_std_error\n",
    "else:\n",
    "    outdir = outdir_prefix\n",
    "figure.savefig(outdir+date_prefix+'WorseArmEstimateAtStepM.pdf', bbox_inches='tight')\n",
    "# with open(date_prefix+'AxisForArmEstimates.pkl', 'wb') as f:\n",
    "#     pickle.dump(figure, f)"
   ]
  },
  {
   "cell_type": "code",
   "execution_count": 29,
   "metadata": {
    "collapsed": false
   },
   "outputs": [
    {
     "ename": "AttributeError",
     "evalue": "'module' object has no attribute 'new_figure_manager_given_figure'",
     "output_type": "error",
     "traceback": [
      "\u001b[0;31m---------------------------------------------------------------------------\u001b[0m",
      "\u001b[0;31mAttributeError\u001b[0m                            Traceback (most recent call last)",
      "\u001b[0;32m<ipython-input-29-da55762a3d9f>\u001b[0m in \u001b[0;36m<module>\u001b[0;34m()\u001b[0m\n\u001b[0;32m----> 1\u001b[0;31m \u001b[0mfigure\u001b[0m \u001b[0;34m=\u001b[0m \u001b[0mpickle\u001b[0m\u001b[0;34m.\u001b[0m\u001b[0mload\u001b[0m\u001b[0;34m(\u001b[0m\u001b[0mopen\u001b[0m\u001b[0;34m(\u001b[0m\u001b[0mdate_prefix\u001b[0m\u001b[0;34m+\u001b[0m\u001b[0;34m'AxisForArmEstimates.pkl'\u001b[0m\u001b[0;34m,\u001b[0m\u001b[0;34m'rb'\u001b[0m\u001b[0;34m)\u001b[0m\u001b[0;34m)\u001b[0m\u001b[0;34m\u001b[0m\u001b[0m\n\u001b[0m\u001b[1;32m      2\u001b[0m \u001b[0;31m# figure.show()\u001b[0m\u001b[0;34m\u001b[0m\u001b[0;34m\u001b[0m\u001b[0m\n",
      "\u001b[0;32m/Library/Frameworks/Python.framework/Versions/3.4/lib/python3.4/site-packages/matplotlib/figure.py\u001b[0m in \u001b[0;36m__setstate__\u001b[0;34m(self, state)\u001b[0m\n\u001b[1;32m   1686\u001b[0m             \u001b[0mallnums\u001b[0m \u001b[0;34m=\u001b[0m \u001b[0mplt\u001b[0m\u001b[0;34m.\u001b[0m\u001b[0mget_fignums\u001b[0m\u001b[0;34m(\u001b[0m\u001b[0;34m)\u001b[0m\u001b[0;34m\u001b[0m\u001b[0m\n\u001b[1;32m   1687\u001b[0m             \u001b[0mnum\u001b[0m \u001b[0;34m=\u001b[0m \u001b[0mmax\u001b[0m\u001b[0;34m(\u001b[0m\u001b[0mallnums\u001b[0m\u001b[0;34m)\u001b[0m \u001b[0;34m+\u001b[0m \u001b[0;36m1\u001b[0m \u001b[0;32mif\u001b[0m \u001b[0mallnums\u001b[0m \u001b[0;32melse\u001b[0m \u001b[0;36m1\u001b[0m\u001b[0;34m\u001b[0m\u001b[0m\n\u001b[0;32m-> 1688\u001b[0;31m             \u001b[0mmgr\u001b[0m \u001b[0;34m=\u001b[0m \u001b[0mplt\u001b[0m\u001b[0;34m.\u001b[0m\u001b[0m_backend_mod\u001b[0m\u001b[0;34m.\u001b[0m\u001b[0mnew_figure_manager_given_figure\u001b[0m\u001b[0;34m(\u001b[0m\u001b[0mnum\u001b[0m\u001b[0;34m,\u001b[0m \u001b[0mself\u001b[0m\u001b[0;34m)\u001b[0m\u001b[0;34m\u001b[0m\u001b[0m\n\u001b[0m\u001b[1;32m   1689\u001b[0m \u001b[0;34m\u001b[0m\u001b[0m\n\u001b[1;32m   1690\u001b[0m             \u001b[0;31m# XXX The following is a copy and paste from pyplot. Consider\u001b[0m\u001b[0;34m\u001b[0m\u001b[0;34m\u001b[0m\u001b[0m\n",
      "\u001b[0;31mAttributeError\u001b[0m: 'module' object has no attribute 'new_figure_manager_given_figure'"
     ]
    }
   ],
   "source": [
    "# figure = pickle.load(open(date_prefix+'AxisForArmEstimates.pkl','rb')) \n",
    "# # figure.show()"
   ]
  },
  {
   "cell_type": "code",
   "execution_count": null,
   "metadata": {
    "collapsed": true
   },
   "outputs": [],
   "source": []
  }
 ],
 "metadata": {
  "kernelspec": {
   "display_name": "Python 3",
   "language": "python",
   "name": "python3"
  },
  "language_info": {
   "codemirror_mode": {
    "name": "ipython",
    "version": 3
   },
   "file_extension": ".py",
   "mimetype": "text/x-python",
   "name": "python",
   "nbconvert_exporter": "python",
   "pygments_lexer": "ipython3",
   "version": "3.5.2"
  }
 },
 "nbformat": 4,
 "nbformat_minor": 2
}
