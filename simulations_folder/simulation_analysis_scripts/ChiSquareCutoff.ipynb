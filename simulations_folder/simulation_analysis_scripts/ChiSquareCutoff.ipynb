{
 "cells": [
  {
   "cell_type": "code",
   "execution_count": 50,
   "metadata": {},
   "outputs": [],
   "source": [
    "import pandas as pd\n",
    "import matplotlib.pyplot as plt\n",
    "import numpy as np\n",
    "import pickle\n",
    "from glob import glob\n",
    "import os\n",
    "import subprocess"
   ]
  },
  {
   "cell_type": "code",
   "execution_count": 158,
   "metadata": {},
   "outputs": [],
   "source": [
    "def get_all_file_paths(root_dir):\n",
    "    to_return = []\n",
    "    current_level_dfs = glob(f\"{root_dir}/*Df.csv\")\n",
    "    if len(current_level_dfs) > 0:\n",
    "        to_return += [df_path for df_path in current_level_dfs]\n",
    "    else:\n",
    "        for subdir in os.listdir(root_dir):\n",
    "            full_dir = f\"{root_dir}/{subdir}\" \n",
    "            if os.path.isdir(full_dir):\n",
    "                to_return += get_all_file_paths(full_dir)\n",
    "    return to_return"
   ]
  },
  {
   "cell_type": "code",
   "execution_count": 11,
   "metadata": {},
   "outputs": [],
   "source": [
    "os.chdir(\"../simulation_scripts\")\n",
    "os.system(\"./RunEffectSizeSimsSameArms_fixedbs.sh\")\n",
    "os.chdir(\"../simulation_analysis_scripts\")"
   ]
  },
  {
   "cell_type": "code",
   "execution_count": 27,
   "metadata": {},
   "outputs": [],
   "source": [
    "save_dirs = !ls ../simulation_saves\n",
    "save_dirs = ['../simulation_saves/' + d for d in save_dirs]"
   ]
  },
  {
   "cell_type": "code",
   "execution_count": 40,
   "metadata": {},
   "outputs": [
    {
     "name": "stdout",
     "output_type": "stream",
     "text": [
      "ChiSquareCutoff.ipynb\n",
      "README.txt\n",
      "TS_BS\n",
      "__pycache__\n",
      "checkcsv.py\n",
      "checkpickle.py\n",
      "checkpickle_EFFECT.py\n",
      "checkpickle_EFFECT_Reward.py\n",
      "checkpickle_IsExplore.py\n",
      "checkpickle_arghavan.py\n",
      "checkpickle_bytrial.py\n",
      "checkpickle_simbased_bsprop.py\n",
      "checkpickle_simbased_bsprop_armprob.py\n",
      "checkpickle_simbased_bsprop_armprob_EFFECT.py\n",
      "checkpickle_simbased_bsprop_armprob_EFFECT_Reward.py\n",
      "checkpickle_simbased_bsprop_armprob_by_IsExplore.py\n",
      "checkpickle_simbased_bsprop_armprob_bytrial.py\n",
      "get_assistments_rewards.py\n",
      "hist_functions.py\n",
      "read_config.py\n",
      "rectify_vars_and_wald_functions.py\n",
      "scatter_plot_functions.py\n",
      "table_functions.py\n"
     ]
    }
   ],
   "source": [
    "!ls ../simulation_analysis_scripts"
   ]
  },
  {
   "cell_type": "code",
   "execution_count": 62,
   "metadata": {},
   "outputs": [
    {
     "name": "stdout",
     "output_type": "stream",
     "text": [
      "cutoff: 3.344465058750773\n",
      "chi square mean: 1.0413016455021298\n",
      "cutoff: 4.194049237909725\n",
      "chi square mean: 1.2740821600166727\n",
      "cutoff: 6.139242472615505\n",
      "chi square mean: 1.6842397960101994\n"
     ]
    },
    {
     "data": {
      "text/plain": [
       "<Figure size 432x288 with 0 Axes>"
      ]
     },
     "metadata": {},
     "output_type": "display_data"
    }
   ],
   "source": [
    "num_sims = 500\n",
    "arm_prob = 0.5\n",
    "means = {}\n",
    "cutoffs = {}\n",
    "for save_dir in save_dirs:\n",
    "    for n in (32, 88, 785):\n",
    "        file_path = glob(save_dir + f\"/num_sims={num_sims}armProb={arm_prob}/n={n}/*Df.csv\")[0]\n",
    "        df_sims = pd.read_csv(file_path)\n",
    "        plt.hist(df_sims['stat'])\n",
    "        plt.title(f\"Chi-Square Statistic: n={n}\")\n",
    "        plt.xlabel(\"Chi-Square Statistic\")\n",
    "        plt.ylabel(\"# Sims\")\n",
    "        plt.savefig(f'../simulation_analysis_saves/chi_square_histogram_{n}.png')\n",
    "        plt.clf()\n",
    "        cutoff = df_sims['stat'].sort_values().reset_index()['stat'][475]\n",
    "        print(f\"cutoff: {cutoff}\")\n",
    "        cutoffs[f'{n}'] = cutoff\n",
    "        print(f\"chi square mean: {df_sims['stat'].mean()}\")\n",
    "        means[f'{n}'] = df_sims['stat'].mean()"
   ]
  },
  {
   "cell_type": "code",
   "execution_count": 161,
   "metadata": {},
   "outputs": [],
   "source": [
    "# delete all the simulation saves\n",
    "for save_dir in save_dirs:\n",
    "    os.system(f\"rm -rf {save_dir}\")"
   ]
  },
  {
   "cell_type": "code",
   "execution_count": 164,
   "metadata": {},
   "outputs": [],
   "source": [
    "# re-run the simulations\n",
    "test_scripts = [\"RunEffectSizeSimsSameArms_fixedbs.sh\", \"RunEffectSizeSims.sh\"]\n",
    "os.chdir(\"../simulation_scripts\")\n",
    "for test_script in test_scripts:\n",
    "    os.system(f\"./{test_script}\")\n",
    "os.chdir(\"../simulation_analysis_scripts\")"
   ]
  },
  {
   "cell_type": "code",
   "execution_count": 165,
   "metadata": {},
   "outputs": [],
   "source": [
    "save_dirs = !ls ../simulation_saves\n",
    "save_dirs = ['../simulation_saves/' + d for d in save_dirs]"
   ]
  },
  {
   "cell_type": "code",
   "execution_count": 167,
   "metadata": {},
   "outputs": [
    {
     "data": {
      "text/plain": [
       "['../simulation_saves/IsEffect_bs_TEST/num_sims=500armProb=0.5/es=0.3/bbUnEqualMeansEqualPriorburn_in_size-batch_size=22-22BB0.3Df.csv',\n",
       " '../simulation_saves/IsEffect_bs_TEST/num_sims=500armProb=0.5/es=0.3/bbUnEqualMeansEqualPriorburn_in_size-batch_size=4-4BB0.3Df.csv',\n",
       " '../simulation_saves/IsEffect_bs_TEST/num_sims=500armProb=0.5/es=0.3/bbUnEqualMeansEqualPriorburn_in_size-batch_size=8-8BB0.3Df.csv',\n",
       " '../simulation_saves/IsEffect_bs_TEST/num_sims=500armProb=0.5/es=0.3/bbUnEqualMeansUniformburn_in_size-batch_size=22-22BU0.3Df.csv',\n",
       " '../simulation_saves/IsEffect_bs_TEST/num_sims=500armProb=0.5/es=0.3/bbUnEqualMeansUniformburn_in_size-batch_size=4-4BU0.3Df.csv',\n",
       " '../simulation_saves/IsEffect_bs_TEST/num_sims=500armProb=0.5/es=0.3/bbUnEqualMeansUniformburn_in_size-batch_size=8-8BU0.3Df.csv',\n",
       " '../simulation_saves/NoEffect_fixedbs_TEST/num_sims=500armProb=0.5/n=32/bbEqualMeansEqualPriorburn_in_size-batch_size=1-1BB0N32Df.csv',\n",
       " '../simulation_saves/NoEffect_fixedbs_TEST/num_sims=500armProb=0.5/n=32/bbEqualMeansUniformburn_in_size-batch_size=1-1BU0N32Df.csv',\n",
       " '../simulation_saves/NoEffect_fixedbs_TEST/num_sims=500armProb=0.5/n=88/bbEqualMeansEqualPriorburn_in_size-batch_size=1-1BB0N88Df.csv',\n",
       " '../simulation_saves/NoEffect_fixedbs_TEST/num_sims=500armProb=0.5/n=88/bbEqualMeansUniformburn_in_size-batch_size=1-1BU0N88Df.csv']"
      ]
     },
     "execution_count": 167,
     "metadata": {},
     "output_type": "execute_result"
    }
   ],
   "source": [
    "get_all_file_paths(\"../simulation_saves\")"
   ]
  },
  {
   "cell_type": "code",
   "execution_count": 169,
   "metadata": {},
   "outputs": [
    {
     "name": "stdout",
     "output_type": "stream",
     "text": [
      "../simulation_saves/IsEffect_bs_TEST/num_sims=500armProb=0.5/es=0.3/bbUnEqualMeansEqualPriorburn_in_size-batch_size=22-22BB0.3Df.csv\n",
      "# above chi-square_cutoff: 365\n",
      "% of sims positive: 0.73\n",
      "../simulation_saves/IsEffect_bs_TEST/num_sims=500armProb=0.5/es=0.3/bbUnEqualMeansEqualPriorburn_in_size-batch_size=4-4BB0.3Df.csv\n",
      "# above chi-square_cutoff: 328\n",
      "% of sims positive: 0.656\n",
      "../simulation_saves/IsEffect_bs_TEST/num_sims=500armProb=0.5/es=0.3/bbUnEqualMeansEqualPriorburn_in_size-batch_size=8-8BB0.3Df.csv\n",
      "# above chi-square_cutoff: 347\n",
      "% of sims positive: 0.694\n",
      "../simulation_saves/IsEffect_bs_TEST/num_sims=500armProb=0.5/es=0.3/bbUnEqualMeansUniformburn_in_size-batch_size=22-22BU0.3Df.csv\n",
      "# above chi-square_cutoff: 411\n",
      "% of sims positive: 0.822\n",
      "../simulation_saves/IsEffect_bs_TEST/num_sims=500armProb=0.5/es=0.3/bbUnEqualMeansUniformburn_in_size-batch_size=4-4BU0.3Df.csv\n",
      "# above chi-square_cutoff: 424\n",
      "% of sims positive: 0.848\n",
      "../simulation_saves/IsEffect_bs_TEST/num_sims=500armProb=0.5/es=0.3/bbUnEqualMeansUniformburn_in_size-batch_size=8-8BU0.3Df.csv\n",
      "# above chi-square_cutoff: 414\n",
      "% of sims positive: 0.828\n",
      "../simulation_saves/NoEffect_fixedbs_TEST/num_sims=500armProb=0.5/n=32/bbEqualMeansEqualPriorburn_in_size-batch_size=1-1BB0N32Df.csv\n",
      "# above chi-square_cutoff: 21\n",
      "% of sims positive: 0.042\n",
      "../simulation_saves/NoEffect_fixedbs_TEST/num_sims=500armProb=0.5/n=32/bbEqualMeansUniformburn_in_size-batch_size=1-1BU0N32Df.csv\n",
      "# above chi-square_cutoff: 37\n",
      "% of sims positive: 0.074\n",
      "../simulation_saves/NoEffect_fixedbs_TEST/num_sims=500armProb=0.5/n=88/bbEqualMeansEqualPriorburn_in_size-batch_size=1-1BB0N88Df.csv\n",
      "# above chi-square_cutoff: 63\n",
      "% of sims positive: 0.126\n",
      "../simulation_saves/NoEffect_fixedbs_TEST/num_sims=500armProb=0.5/n=88/bbEqualMeansUniformburn_in_size-batch_size=1-1BU0N88Df.csv\n",
      "# above chi-square_cutoff: 35\n",
      "% of sims positive: 0.07\n",
      "../simulation_saves/IsEffect_bs_TEST/num_sims=500armProb=0.5/es=0.3/bbUnEqualMeansEqualPriorburn_in_size-batch_size=22-22BB0.3Df.csv\n",
      "# above chi-square_cutoff: 319\n",
      "% of sims positive: 0.638\n",
      "../simulation_saves/IsEffect_bs_TEST/num_sims=500armProb=0.5/es=0.3/bbUnEqualMeansEqualPriorburn_in_size-batch_size=4-4BB0.3Df.csv\n",
      "# above chi-square_cutoff: 261\n",
      "% of sims positive: 0.522\n",
      "../simulation_saves/IsEffect_bs_TEST/num_sims=500armProb=0.5/es=0.3/bbUnEqualMeansEqualPriorburn_in_size-batch_size=8-8BB0.3Df.csv\n",
      "# above chi-square_cutoff: 276\n",
      "% of sims positive: 0.552\n",
      "../simulation_saves/IsEffect_bs_TEST/num_sims=500armProb=0.5/es=0.3/bbUnEqualMeansUniformburn_in_size-batch_size=22-22BU0.3Df.csv\n",
      "# above chi-square_cutoff: 382\n",
      "% of sims positive: 0.764\n",
      "../simulation_saves/IsEffect_bs_TEST/num_sims=500armProb=0.5/es=0.3/bbUnEqualMeansUniformburn_in_size-batch_size=4-4BU0.3Df.csv\n",
      "# above chi-square_cutoff: 401\n",
      "% of sims positive: 0.802\n",
      "../simulation_saves/IsEffect_bs_TEST/num_sims=500armProb=0.5/es=0.3/bbUnEqualMeansUniformburn_in_size-batch_size=8-8BU0.3Df.csv\n",
      "# above chi-square_cutoff: 386\n",
      "% of sims positive: 0.772\n",
      "../simulation_saves/NoEffect_fixedbs_TEST/num_sims=500armProb=0.5/n=32/bbEqualMeansEqualPriorburn_in_size-batch_size=1-1BB0N32Df.csv\n",
      "# above chi-square_cutoff: 8\n",
      "% of sims positive: 0.016\n",
      "../simulation_saves/NoEffect_fixedbs_TEST/num_sims=500armProb=0.5/n=32/bbEqualMeansUniformburn_in_size-batch_size=1-1BU0N32Df.csv\n",
      "# above chi-square_cutoff: 24\n",
      "% of sims positive: 0.048\n",
      "../simulation_saves/NoEffect_fixedbs_TEST/num_sims=500armProb=0.5/n=88/bbEqualMeansEqualPriorburn_in_size-batch_size=1-1BB0N88Df.csv\n",
      "# above chi-square_cutoff: 27\n",
      "% of sims positive: 0.054\n",
      "../simulation_saves/NoEffect_fixedbs_TEST/num_sims=500armProb=0.5/n=88/bbEqualMeansUniformburn_in_size-batch_size=1-1BU0N88Df.csv\n",
      "# above chi-square_cutoff: 21\n",
      "% of sims positive: 0.042\n",
      "../simulation_saves/IsEffect_bs_TEST/num_sims=500armProb=0.5/es=0.3/bbUnEqualMeansEqualPriorburn_in_size-batch_size=22-22BB0.3Df.csv\n",
      "# above chi-square_cutoff: 215\n",
      "% of sims positive: 0.43\n",
      "../simulation_saves/IsEffect_bs_TEST/num_sims=500armProb=0.5/es=0.3/bbUnEqualMeansEqualPriorburn_in_size-batch_size=4-4BB0.3Df.csv\n",
      "# above chi-square_cutoff: 113\n",
      "% of sims positive: 0.226\n",
      "../simulation_saves/IsEffect_bs_TEST/num_sims=500armProb=0.5/es=0.3/bbUnEqualMeansEqualPriorburn_in_size-batch_size=8-8BB0.3Df.csv\n",
      "# above chi-square_cutoff: 115\n",
      "% of sims positive: 0.23\n",
      "../simulation_saves/IsEffect_bs_TEST/num_sims=500armProb=0.5/es=0.3/bbUnEqualMeansUniformburn_in_size-batch_size=22-22BU0.3Df.csv\n",
      "# above chi-square_cutoff: 308\n",
      "% of sims positive: 0.616\n",
      "../simulation_saves/IsEffect_bs_TEST/num_sims=500armProb=0.5/es=0.3/bbUnEqualMeansUniformburn_in_size-batch_size=4-4BU0.3Df.csv\n",
      "# above chi-square_cutoff: 323\n",
      "% of sims positive: 0.646\n",
      "../simulation_saves/IsEffect_bs_TEST/num_sims=500armProb=0.5/es=0.3/bbUnEqualMeansUniformburn_in_size-batch_size=8-8BU0.3Df.csv\n",
      "# above chi-square_cutoff: 314\n",
      "% of sims positive: 0.628\n",
      "../simulation_saves/NoEffect_fixedbs_TEST/num_sims=500armProb=0.5/n=32/bbEqualMeansEqualPriorburn_in_size-batch_size=1-1BB0N32Df.csv\n",
      "# above chi-square_cutoff: 0\n",
      "% of sims positive: 0.0\n",
      "../simulation_saves/NoEffect_fixedbs_TEST/num_sims=500armProb=0.5/n=32/bbEqualMeansUniformburn_in_size-batch_size=1-1BU0N32Df.csv\n",
      "# above chi-square_cutoff: 11\n",
      "% of sims positive: 0.022\n",
      "../simulation_saves/NoEffect_fixedbs_TEST/num_sims=500armProb=0.5/n=88/bbEqualMeansEqualPriorburn_in_size-batch_size=1-1BB0N88Df.csv\n",
      "# above chi-square_cutoff: 0\n",
      "% of sims positive: 0.0\n",
      "../simulation_saves/NoEffect_fixedbs_TEST/num_sims=500armProb=0.5/n=88/bbEqualMeansUniformburn_in_size-batch_size=1-1BU0N88Df.csv\n",
      "# above chi-square_cutoff: 6\n",
      "% of sims positive: 0.012\n",
      "../simulation_saves/IsEffect_bs_TEST/num_sims=500armProb=0.5/es=0.3/bbUnEqualMeansEqualPriorburn_in_size-batch_size=22-22BB0.3Df.csv\n",
      "# above chi-square_cutoff: 365\n",
      "% of sims positive: 0.73\n",
      "../simulation_saves/IsEffect_bs_TEST/num_sims=500armProb=0.5/es=0.3/bbUnEqualMeansEqualPriorburn_in_size-batch_size=4-4BB0.3Df.csv\n",
      "# above chi-square_cutoff: 328\n",
      "% of sims positive: 0.656\n",
      "../simulation_saves/IsEffect_bs_TEST/num_sims=500armProb=0.5/es=0.3/bbUnEqualMeansEqualPriorburn_in_size-batch_size=8-8BB0.3Df.csv\n",
      "# above chi-square_cutoff: 347\n",
      "% of sims positive: 0.694\n",
      "../simulation_saves/IsEffect_bs_TEST/num_sims=500armProb=0.5/es=0.3/bbUnEqualMeansUniformburn_in_size-batch_size=22-22BU0.3Df.csv\n",
      "# above chi-square_cutoff: 411\n",
      "% of sims positive: 0.822\n",
      "../simulation_saves/IsEffect_bs_TEST/num_sims=500armProb=0.5/es=0.3/bbUnEqualMeansUniformburn_in_size-batch_size=4-4BU0.3Df.csv\n",
      "# above chi-square_cutoff: 424\n",
      "% of sims positive: 0.848\n",
      "../simulation_saves/IsEffect_bs_TEST/num_sims=500armProb=0.5/es=0.3/bbUnEqualMeansUniformburn_in_size-batch_size=8-8BU0.3Df.csv\n",
      "# above chi-square_cutoff: 414\n",
      "% of sims positive: 0.828\n",
      "../simulation_saves/NoEffect_fixedbs_TEST/num_sims=500armProb=0.5/n=32/bbEqualMeansEqualPriorburn_in_size-batch_size=1-1BB0N32Df.csv\n",
      "# above chi-square_cutoff: 21\n",
      "% of sims positive: 0.042\n",
      "../simulation_saves/NoEffect_fixedbs_TEST/num_sims=500armProb=0.5/n=32/bbEqualMeansUniformburn_in_size-batch_size=1-1BU0N32Df.csv\n",
      "# above chi-square_cutoff: 37\n",
      "% of sims positive: 0.074\n",
      "../simulation_saves/NoEffect_fixedbs_TEST/num_sims=500armProb=0.5/n=88/bbEqualMeansEqualPriorburn_in_size-batch_size=1-1BB0N88Df.csv\n",
      "# above chi-square_cutoff: 63\n",
      "% of sims positive: 0.126\n",
      "../simulation_saves/NoEffect_fixedbs_TEST/num_sims=500armProb=0.5/n=88/bbEqualMeansUniformburn_in_size-batch_size=1-1BU0N88Df.csv\n",
      "# above chi-square_cutoff: 35\n",
      "% of sims positive: 0.07\n",
      "../simulation_saves/IsEffect_bs_TEST/num_sims=500armProb=0.5/es=0.3/bbUnEqualMeansEqualPriorburn_in_size-batch_size=22-22BB0.3Df.csv\n",
      "# above chi-square_cutoff: 319\n",
      "% of sims positive: 0.638\n",
      "../simulation_saves/IsEffect_bs_TEST/num_sims=500armProb=0.5/es=0.3/bbUnEqualMeansEqualPriorburn_in_size-batch_size=4-4BB0.3Df.csv\n",
      "# above chi-square_cutoff: 261\n",
      "% of sims positive: 0.522\n",
      "../simulation_saves/IsEffect_bs_TEST/num_sims=500armProb=0.5/es=0.3/bbUnEqualMeansEqualPriorburn_in_size-batch_size=8-8BB0.3Df.csv\n",
      "# above chi-square_cutoff: 276\n",
      "% of sims positive: 0.552\n",
      "../simulation_saves/IsEffect_bs_TEST/num_sims=500armProb=0.5/es=0.3/bbUnEqualMeansUniformburn_in_size-batch_size=22-22BU0.3Df.csv\n",
      "# above chi-square_cutoff: 382\n",
      "% of sims positive: 0.764\n",
      "../simulation_saves/IsEffect_bs_TEST/num_sims=500armProb=0.5/es=0.3/bbUnEqualMeansUniformburn_in_size-batch_size=4-4BU0.3Df.csv\n",
      "# above chi-square_cutoff: 401\n",
      "% of sims positive: 0.802\n",
      "../simulation_saves/IsEffect_bs_TEST/num_sims=500armProb=0.5/es=0.3/bbUnEqualMeansUniformburn_in_size-batch_size=8-8BU0.3Df.csv\n",
      "# above chi-square_cutoff: 386\n",
      "% of sims positive: 0.772\n",
      "../simulation_saves/NoEffect_fixedbs_TEST/num_sims=500armProb=0.5/n=32/bbEqualMeansEqualPriorburn_in_size-batch_size=1-1BB0N32Df.csv\n",
      "# above chi-square_cutoff: 8\n",
      "% of sims positive: 0.016\n",
      "../simulation_saves/NoEffect_fixedbs_TEST/num_sims=500armProb=0.5/n=32/bbEqualMeansUniformburn_in_size-batch_size=1-1BU0N32Df.csv\n",
      "# above chi-square_cutoff: 24\n",
      "% of sims positive: 0.048\n",
      "../simulation_saves/NoEffect_fixedbs_TEST/num_sims=500armProb=0.5/n=88/bbEqualMeansEqualPriorburn_in_size-batch_size=1-1BB0N88Df.csv\n",
      "# above chi-square_cutoff: 27\n",
      "% of sims positive: 0.054\n",
      "../simulation_saves/NoEffect_fixedbs_TEST/num_sims=500armProb=0.5/n=88/bbEqualMeansUniformburn_in_size-batch_size=1-1BU0N88Df.csv\n",
      "# above chi-square_cutoff: 21\n",
      "% of sims positive: 0.042\n",
      "../simulation_saves/IsEffect_bs_TEST/num_sims=500armProb=0.5/es=0.3/bbUnEqualMeansEqualPriorburn_in_size-batch_size=22-22BB0.3Df.csv\n",
      "# above chi-square_cutoff: 215\n",
      "% of sims positive: 0.43\n",
      "../simulation_saves/IsEffect_bs_TEST/num_sims=500armProb=0.5/es=0.3/bbUnEqualMeansEqualPriorburn_in_size-batch_size=4-4BB0.3Df.csv\n",
      "# above chi-square_cutoff: 113\n",
      "% of sims positive: 0.226\n",
      "../simulation_saves/IsEffect_bs_TEST/num_sims=500armProb=0.5/es=0.3/bbUnEqualMeansEqualPriorburn_in_size-batch_size=8-8BB0.3Df.csv\n",
      "# above chi-square_cutoff: 115\n",
      "% of sims positive: 0.23\n",
      "../simulation_saves/IsEffect_bs_TEST/num_sims=500armProb=0.5/es=0.3/bbUnEqualMeansUniformburn_in_size-batch_size=22-22BU0.3Df.csv\n",
      "# above chi-square_cutoff: 308\n",
      "% of sims positive: 0.616\n",
      "../simulation_saves/IsEffect_bs_TEST/num_sims=500armProb=0.5/es=0.3/bbUnEqualMeansUniformburn_in_size-batch_size=4-4BU0.3Df.csv\n",
      "# above chi-square_cutoff: 323\n",
      "% of sims positive: 0.646\n",
      "../simulation_saves/IsEffect_bs_TEST/num_sims=500armProb=0.5/es=0.3/bbUnEqualMeansUniformburn_in_size-batch_size=8-8BU0.3Df.csv\n",
      "# above chi-square_cutoff: 314\n",
      "% of sims positive: 0.628\n",
      "../simulation_saves/NoEffect_fixedbs_TEST/num_sims=500armProb=0.5/n=32/bbEqualMeansEqualPriorburn_in_size-batch_size=1-1BB0N32Df.csv\n",
      "# above chi-square_cutoff: 0\n",
      "% of sims positive: 0.0\n",
      "../simulation_saves/NoEffect_fixedbs_TEST/num_sims=500armProb=0.5/n=32/bbEqualMeansUniformburn_in_size-batch_size=1-1BU0N32Df.csv\n",
      "# above chi-square_cutoff: 11\n",
      "% of sims positive: 0.022\n",
      "../simulation_saves/NoEffect_fixedbs_TEST/num_sims=500armProb=0.5/n=88/bbEqualMeansEqualPriorburn_in_size-batch_size=1-1BB0N88Df.csv\n",
      "# above chi-square_cutoff: 0\n",
      "% of sims positive: 0.0\n",
      "../simulation_saves/NoEffect_fixedbs_TEST/num_sims=500armProb=0.5/n=88/bbEqualMeansUniformburn_in_size-batch_size=1-1BU0N88Df.csv\n",
      "# above chi-square_cutoff: 6\n",
      "% of sims positive: 0.012\n"
     ]
    }
   ],
   "source": [
    "num_sims = 500\n",
    "arm_prob = 0.5\n",
    "for save_dir in save_dirs:\n",
    "    for n in (32, 88, 785):\n",
    "        for file_path in get_all_file_paths(\"../simulation_saves\"):\n",
    "            print(file_path)\n",
    "            df_sims = pd.read_csv(file_path)\n",
    "            cutoff = cutoffs[f'{n}']\n",
    "            df_positives = df_sims[df_sims['stat'] > cutoff]\n",
    "            print(f\"# above chi-square_cutoff: {len(df_positives)}\")\n",
    "            print(f\"% of sims positive: {len(df_positives)/num_sims}\")"
   ]
  },
  {
   "cell_type": "code",
   "execution_count": null,
   "metadata": {},
   "outputs": [],
   "source": []
  }
 ],
 "metadata": {
  "kernelspec": {
   "display_name": "Python 3",
   "language": "python",
   "name": "python3"
  },
  "language_info": {
   "codemirror_mode": {
    "name": "ipython",
    "version": 3
   },
   "file_extension": ".py",
   "mimetype": "text/x-python",
   "name": "python",
   "nbconvert_exporter": "python",
   "pygments_lexer": "ipython3",
   "version": "3.6.8"
  }
 },
 "nbformat": 4,
 "nbformat_minor": 4
}
